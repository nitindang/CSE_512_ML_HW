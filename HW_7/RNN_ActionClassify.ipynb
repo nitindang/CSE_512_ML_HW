{
 "cells": [
  {
   "cell_type": "markdown",
   "metadata": {},
   "source": [
    "# Sequence Classification using Recurrent Neural Networks(RNN)\n",
    "In this homework, you will learn how to train a recurrent neural network for human action classification. RNN is designed handle sequential data. The network can incorporate both past history and current input. [This](http://colah.github.io/posts/2015-08-Understanding-LSTMs/) is a very good tutorial. You should read it before you start."
   ]
  },
  {
   "cell_type": "markdown",
   "metadata": {},
   "source": [
    "## Setup\n",
    "Please make sure you have h5py and torchnet installed\n",
    "> pip install h5py\n",
    "\n",
    "> pip install git+https://github.com/pytorch/tnt.git@master\n"
   ]
  },
  {
   "cell_type": "code",
   "execution_count": 1,
   "metadata": {},
   "outputs": [
    {
     "name": "stdout",
     "output_type": "stream",
     "text": [
      "use cuda: True\n"
     ]
    }
   ],
   "source": [
    "import os\n",
    "import numpy as np\n",
    "import h5py\n",
    "\n",
    "import torch\n",
    "import torch.nn as nn\n",
    "from torch.autograd import Variable\n",
    "import torch.utils.data as DD\n",
    "import torchnet as tnt\n",
    "\n",
    "use_cuda = torch.cuda.is_available()\n",
    "print('use cuda: %s'%(use_cuda))\n",
    "FloatTensor = torch.cuda.FloatTensor if use_cuda else torch.FloatTensor\n",
    "LongTensor = torch.cuda.LongTensor if use_cuda else torch.LongTensor\n",
    "ByteTensor = torch.cuda.ByteTensor if use_cuda else torch.ByteTensor\n"
   ]
  },
  {
   "cell_type": "markdown",
   "metadata": {},
   "source": [
    "## Dataset\n",
    "The data we are using is skeleton data, which indicates the 3D locations of body joints. In total, there are 25 body joints. It is collected by Kinect v2. To make it easier, each sequence have same number of frames. You need to classify 10 different actions. There are 2000 training sequences, 400 validation sequences, and 500 test sequences. Each sequence has 15 frames, each frame is a 75-dimension vector (3*25).\n",
    "\n",
    "For your convenience, we provide the dataloader for you.\n"
   ]
  },
  {
   "cell_type": "code",
   "execution_count": 2,
   "metadata": {},
   "outputs": [],
   "source": [
    "class Dataset(DD.Dataset):\n",
    "    # subset can be: 'train', 'val', 'test'\n",
    "    def __init__(self, data_path, subset='train'):\n",
    "        super(Dataset, self).__init__()\n",
    "        self.data_path = os.path.join(data_path, '%s_data.h5'%subset)\n",
    "        self.subset = subset\n",
    "\n",
    "        with h5py.File(self.data_path) as f:\n",
    "            self.data = np.array(f['data'])\n",
    "\n",
    "        if subset != 'test':\n",
    "            self.label_path = os.path.join(data_path, '%s_label.h5'%subset)\n",
    "            with h5py.File(self.label_path) as f:\n",
    "                self.label = np.array(f['label'])\n",
    "\n",
    "        self.num_sequences = self.data.shape[0]\n",
    "        self.seq_len = self.data.shape[1]\n",
    "        self.n_dim = self.data.shape[2]\n",
    "\n",
    "    def __getitem__(self, index):\n",
    "        seq = self.data[index]\n",
    "        if self.subset != 'test':\n",
    "            label = int(self.label[index])\n",
    "            sample = {'seq': seq, 'label': label}\n",
    "        else:\n",
    "            sample = {'seq': seq}\n",
    "        return sample\n",
    "\n",
    "    def __len__(self):\n",
    "        return self.num_sequences\n",
    "\n",
    "trSet = Dataset('./data', subset='train')\n",
    "valSet = Dataset('./data', subset='val')\n",
    "tstSet = Dataset('./data', subset='test')\n",
    "\n",
    "batch_size = 50\n",
    "trLD = DD.DataLoader(trSet, batch_size=batch_size,\n",
    "       sampler=DD.sampler.RandomSampler(trSet),\n",
    "       num_workers=2, pin_memory=False)\n",
    "valLD = DD.DataLoader(valSet, batch_size=batch_size,\n",
    "       sampler=DD.sampler.SequentialSampler(valSet),\n",
    "       num_workers=1, pin_memory=False)\n",
    "tstLD = DD.DataLoader(tstSet, batch_size=batch_size,\n",
    "       sampler=DD.sampler.SequentialSampler(tstSet),\n",
    "       num_workers=1, pin_memory=False)\n",
    "\n",
    "input_dim = trSet.n_dim\n",
    "num_class = 10"
   ]
  },
  {
   "cell_type": "markdown",
   "metadata": {},
   "source": [
    "## Model\n",
    "Pytorch has implemented different types of recurrent layers for you. For this homework, you can use any type of RNNs as you want:\n",
    "> torch.nn.RNN()\n",
    "\n",
    "> torch.nn.LSTM()\n",
    "\n",
    "> torch.nn.GRU()\n",
    "\n",
    "You can check details for different types of recurrent layers here: [RNN](http://pytorch.org/docs/master/nn.html#torch.nn.RNN), [LSTM]( http://pytorch.org/docs/master/nn.html#torch.nn.LSTM), [GRU](http://pytorch.org/docs/master/nn.html#torch.nn.GRU)\n",
    "\n",
    "\n",
    "### Implement a specific model\n",
    "In this section, you need to implement a model for sequence classification. The model has following layers:\n",
    "* A linear layer that can map features of 75-dimension to 100-dimension.\n",
    "* 1 Layer LSTM layer with hidden size of 100\n",
    "* A linear layer that goes from 100 to num_class (10). \n",
    "\n",
    "An LSTM layer takes an input of size of (batch_size, seq_len, fea_dim) and outputs a variable of shape (batch_size, seq_len, hidden_size). In this homework, the classification score for a sequence is the classification score for the last step of rnn_outputs.\n",
    "\n"
   ]
  },
  {
   "cell_type": "code",
   "execution_count": 3,
   "metadata": {},
   "outputs": [],
   "source": [
    "# sequence classification model\n",
    "class SequenceClassify(nn.Module):\n",
    "    def __init__(self):\n",
    "        super(SequenceClassify, self).__init__()\n",
    "        \n",
    "        ############## 1st To Do (10 points) ##############\n",
    "        ###################################################\n",
    "#         self.project_layer = None\n",
    "#         self.recurrent_layer = None\n",
    "#         self.classify_layer = None\n",
    "        ###################################################\n",
    "        ###################################################\n",
    "        self.project_layer = nn.Linear(75, 100)\n",
    "        self.recurrent_layer = nn.LSTM(100, 100)\n",
    "        self.classify_layer = nn.Linear(100, 10)\n",
    "        ###################################################\n",
    "    \n",
    "    # the size of input is [batch_size, seq_len(15), input_dim(75)]\n",
    "    # the size of logits is [batch_size, num_class]\n",
    "    def forward(self, input, h_t_1=None, c_t_1=None):\n",
    "        # the size of rnn_outputs is [batch_size, seq_len, rnn_size]\n",
    "        rnn_outputs, (hn, cn) = self.recurrent_layer(self.project_layer(input))\n",
    "        # classify the last step of rnn_outpus\n",
    "        # the size of logits is [batch_size, num_class]\n",
    "        logits = self.classify_layer(rnn_outputs[:,-1])\n",
    "        return logits\n",
    "\n",
    "if use_cuda:\n",
    "    model = SequenceClassify().cuda()\n",
    "else:\n",
    "    model = SequenceClassify()"
   ]
  },
  {
   "cell_type": "markdown",
   "metadata": {},
   "source": [
    "## Train the model\n",
    "After you have the dataloader and model, you can start training the model. Define a SGD optimizer with learning rate of 1e-3, and a cross-entropy loss function:"
   ]
  },
  {
   "cell_type": "code",
   "execution_count": 4,
   "metadata": {},
   "outputs": [],
   "source": [
    "################ 2nd To Do  (5 points)##################\n",
    "optimizer = torch.optim.SGD(model.parameters(), lr = 1e-3)\n",
    "criterion = nn.CrossEntropyLoss()"
   ]
  },
  {
   "cell_type": "code",
   "execution_count": 154,
   "metadata": {},
   "outputs": [
    {
     "name": "stderr",
     "output_type": "stream",
     "text": [
      "/home/sbhal/.local/lib/python2.7/site-packages/ipykernel_launcher.py:31: UserWarning: invalid index of a 0-dim tensor. This will be an error in PyTorch 0.5. Use tensor.item() to convert a 0-dim tensor to a Python number\n"
     ]
    },
    {
     "name": "stdout",
     "output_type": "stream",
     "text": [
      "train Epoch: 0  , Loss: 2.3088,  Accuracy: 10.25\n",
      "val Epoch: 0  , Loss: 2.3080,  Accuracy: 9.00\n"
     ]
    }
   ],
   "source": [
    "# run the model for one epoch\n",
    "# can be used for both training or validation model\n",
    "def run_epoch(data_loader, model, criterion, epoch, is_training, optimizer=None):\n",
    "    if is_training:\n",
    "        model.train()\n",
    "        logger_prefix = 'train'\n",
    "    else:\n",
    "        model.eval()\n",
    "        logger_prefix = 'val'\n",
    "\n",
    "    confusion_matrix = tnt.meter.ConfusionMeter(num_class)\n",
    "    acc = tnt.meter.ClassErrorMeter(accuracy=True)\n",
    "    meter_loss = tnt.meter.AverageValueMeter()\n",
    "\n",
    "    for batch_idx, sample in enumerate(data_loader):\n",
    "        sequence = sample['seq']\n",
    "        label = sample['label']\n",
    "        input_sequence_var = Variable(sequence).type(FloatTensor)\n",
    "        input_label_var = Variable(label).type(LongTensor)\n",
    "\n",
    "        # compute output\n",
    "        # output_logits: [batch_size, num_class]\n",
    "        output_logits = model(input_sequence_var)\n",
    "        loss = criterion(output_logits, input_label_var)\n",
    "\n",
    "        if is_training:\n",
    "            optimizer.zero_grad()\n",
    "            loss.backward()\n",
    "            optimizer.step()\n",
    "\n",
    "        meter_loss.add(loss.data[0])\n",
    "        acc.add(output_logits.data, input_label_var.data)\n",
    "        confusion_matrix.add(output_logits.data, input_label_var.data)\n",
    "\n",
    "    if (not is_training) or e%10 == 0:\n",
    "        print('%s Epoch: %d  , Loss: %.4f,  Accuracy: %.2f'%(logger_prefix, epoch, meter_loss.value()[0], acc.value()[0]))\n",
    "    return acc.value()[0]\n",
    "\n",
    "num_epochs = 1\n",
    "evaluate_every_epoch = 5\n",
    "for e in range(num_epochs):\n",
    "    run_epoch(trLD, model, criterion, e, True, optimizer)\n",
    "    if e % evaluate_every_epoch == 0:\n",
    "        run_epoch(valLD, model, criterion, e, False, None)   \n"
   ]
  },
  {
   "cell_type": "markdown",
   "metadata": {},
   "source": [
    "## Kaggle Model Training"
   ]
  },
  {
   "cell_type": "code",
   "execution_count": 213,
   "metadata": {},
   "outputs": [],
   "source": [
    "# sequence classification model\n",
    "class SequenceClassify(nn.Module):\n",
    "    def __init__(self):\n",
    "        super(SequenceClassify, self).__init__()\n",
    "        self.project_layer = nn.Linear(75, 200)\n",
    "        self.recurrent_layer1 = nn.LSTM(200,400,num_layers=4,bidirectional=True,batch_first=True,dropout=0.4)\n",
    "        self.rnn1 = nn.Sequential(\n",
    "            nn.BatchNorm1d(800),\n",
    "            nn.LeakyReLU(),\n",
    "            nn.Linear(800, 10)\n",
    "        )\n",
    "        ###################################################\n",
    "    \n",
    "    # the size of input is [batch_size, seq_len(15), input_dim(75)]\n",
    "    # the size of logits is [batch_size, num_class]\n",
    "    def forward(self, input, h_t_1=None, c_t_1=None):\n",
    "        # the size of rnn_outputs is [batch_size, seq_len, rnn_size]\n",
    "        rnn_outputs, (hn, cn) = self.recurrent_layer1(self.project_layer(input))\n",
    "    \n",
    "        logits = self.rnn1(rnn_outputs[:,-1])\n",
    "        return logits\n",
    "\n",
    "if use_cuda:\n",
    "    best_model = SequenceClassify().cuda()\n",
    "    criterion = nn.CrossEntropyLoss().cuda()\n",
    "else:\n",
    "    best_model = SequenceClassify()\n",
    "    criterion = nn.CrossEntropyLoss()\n",
    "   \n",
    "    \n",
    "optimizer = torch.optim.Adam(best_model.parameters(), amsgrad=True)"
   ]
  },
  {
   "cell_type": "code",
   "execution_count": 214,
   "metadata": {},
   "outputs": [
    {
     "name": "stderr",
     "output_type": "stream",
     "text": [
      "/home/sbhal/.local/lib/python2.7/site-packages/ipykernel_launcher.py:31: UserWarning: invalid index of a 0-dim tensor. This will be an error in PyTorch 0.5. Use tensor.item() to convert a 0-dim tensor to a Python number\n"
     ]
    },
    {
     "name": "stdout",
     "output_type": "stream",
     "text": [
      "train Epoch: 0  , Loss: 2.2294,  Accuracy: 13.70\n",
      "val Epoch: 0  , Loss: 1.8826,  Accuracy: 20.75\n",
      "val Epoch: 5  , Loss: 1.2830,  Accuracy: 57.25\n",
      "train Epoch: 10  , Loss: 0.6470,  Accuracy: 77.85\n",
      "val Epoch: 10  , Loss: 0.9162,  Accuracy: 71.25\n",
      "val Epoch: 15  , Loss: 0.6433,  Accuracy: 81.00\n",
      "train Epoch: 20  , Loss: 0.3630,  Accuracy: 87.65\n",
      "val Epoch: 20  , Loss: 0.7109,  Accuracy: 78.50\n",
      "val Epoch: 25  , Loss: 0.6757,  Accuracy: 79.75\n",
      "train Epoch: 30  , Loss: 0.2494,  Accuracy: 90.85\n",
      "val Epoch: 30  , Loss: 0.6966,  Accuracy: 81.25\n",
      "val Epoch: 35  , Loss: 0.8253,  Accuracy: 79.50\n",
      "train Epoch: 40  , Loss: 0.1537,  Accuracy: 94.50\n",
      "val Epoch: 40  , Loss: 0.7145,  Accuracy: 82.00\n",
      "val Epoch: 45  , Loss: 0.8289,  Accuracy: 80.50\n",
      "train Epoch: 50  , Loss: 0.0762,  Accuracy: 97.35\n",
      "val Epoch: 50  , Loss: 0.8044,  Accuracy: 82.25\n",
      "val Epoch: 55  , Loss: 0.7912,  Accuracy: 82.50\n",
      "train Epoch: 60  , Loss: 0.0999,  Accuracy: 96.50\n",
      "val Epoch: 60  , Loss: 0.8427,  Accuracy: 82.50\n",
      "val Epoch: 65  , Loss: 1.0084,  Accuracy: 80.50\n",
      "train Epoch: 70  , Loss: 0.0931,  Accuracy: 96.70\n",
      "val Epoch: 70  , Loss: 0.9338,  Accuracy: 79.75\n",
      "val Epoch: 75  , Loss: 0.8730,  Accuracy: 82.50\n",
      "train Epoch: 80  , Loss: 0.0702,  Accuracy: 97.70\n",
      "val Epoch: 80  , Loss: 1.0886,  Accuracy: 80.25\n",
      "val Epoch: 85  , Loss: 1.0958,  Accuracy: 81.00\n",
      "train Epoch: 90  , Loss: 0.0010,  Accuracy: 100.00\n",
      "val Epoch: 90  , Loss: 1.0885,  Accuracy: 83.00\n",
      "val Epoch: 95  , Loss: 1.1053,  Accuracy: 83.50\n",
      "train Epoch: 100  , Loss: 0.0006,  Accuracy: 100.00\n",
      "val Epoch: 100  , Loss: 1.1420,  Accuracy: 83.25\n",
      "val Epoch: 100  , Loss: 0.7142,  Accuracy: 86.00\n"
     ]
    },
    {
     "name": "stderr",
     "output_type": "stream",
     "text": [
      "/home/sbhal/.local/lib/python2.7/site-packages/ipykernel_launcher.py:48: UserWarning: RNN module weights are not part of single contiguous chunk of memory. This means they need to be compacted at every call, possibly greatly increasing memory usage. To compact weights again call flatten_parameters().\n"
     ]
    },
    {
     "data": {
      "text/plain": [
       "86.0"
      ]
     },
     "execution_count": 214,
     "metadata": {},
     "output_type": "execute_result"
    }
   ],
   "source": [
    "import copy \n",
    "num_epochs = 101\n",
    "evaluate_every_epoch = 5\n",
    "# k_model = None\n",
    "# best_accuracy = 0.0\n",
    "\n",
    "for e in xrange(num_epochs):\n",
    "    run_epoch(trLD, best_model, criterion, e, True, optimizer)\n",
    "    if e % evaluate_every_epoch == 0:\n",
    "        acc = run_epoch(valLD, best_model, criterion, e, False, None)\n",
    "        if acc > best_accuracy:\n",
    "            k_model = copy.deepcopy(best_model)\n",
    "            best_accuracy = acc\n",
    "\n",
    "run_epoch(valLD, k_model, criterion, e, False, None) "
   ]
  },
  {
   "cell_type": "code",
   "execution_count": 215,
   "metadata": {},
   "outputs": [
    {
     "name": "stdout",
     "output_type": "stream",
     "text": [
      "val Epoch: 100  , Loss: 0.7142,  Accuracy: 86.00\n"
     ]
    },
    {
     "name": "stderr",
     "output_type": "stream",
     "text": [
      "/home/sbhal/.local/lib/python2.7/site-packages/ipykernel_launcher.py:48: UserWarning: RNN module weights are not part of single contiguous chunk of memory. This means they need to be compacted at every call, possibly greatly increasing memory usage. To compact weights again call flatten_parameters().\n",
      "/home/sbhal/.local/lib/python2.7/site-packages/ipykernel_launcher.py:31: UserWarning: invalid index of a 0-dim tensor. This will be an error in PyTorch 0.5. Use tensor.item() to convert a 0-dim tensor to a Python number\n"
     ]
    }
   ],
   "source": [
    "best_accuracy = run_epoch(valLD, k_model, criterion, e, False, None) "
   ]
  },
  {
   "cell_type": "markdown",
   "metadata": {},
   "source": [
    "## Submit your results on Kaggle\n",
    "\n",
    "### Train a better model for action recognition!\n",
    "Now it's your job to experiment with architectures, hyperparameters, loss functions, and optimizers to train a model that achieves better accuracy on the action recognition validation set.\n",
    "\n",
    "\n",
    "### Testing the model and submit on Kaggle\n",
    "Testing the model on the testing set and save the results as a .csv file. \n",
    "Please submitted the results.csv file generated by predict_on_test() to Kaggle(https://www.kaggle.com/t/934b80879bd741e6ac1967195604d4d9) to see how well your network performs on the test set. \n",
    "################ 3rd To Do  (20 points, the highest 3 entries get extra 10 points) ###############\n"
   ]
  },
  {
   "cell_type": "code",
   "execution_count": 216,
   "metadata": {},
   "outputs": [
    {
     "name": "stdout",
     "output_type": "stream",
     "text": [
      "1000\n"
     ]
    },
    {
     "name": "stderr",
     "output_type": "stream",
     "text": [
      "/home/sbhal/.local/lib/python2.7/site-packages/ipykernel_launcher.py:48: UserWarning: RNN module weights are not part of single contiguous chunk of memory. This means they need to be compacted at every call, possibly greatly increasing memory usage. To compact weights again call flatten_parameters().\n"
     ]
    }
   ],
   "source": [
    "# Use your best model to generate results on test set.\n",
    "\n",
    "# generate csv file for test set\n",
    "def predict_on_test(model, data_loader):\n",
    "    model.eval() # Put the model in test mode (the opposite of model.train(), essentially)\n",
    "    results=open('results.csv','w')\n",
    "    count=0\n",
    "    results.write('Id'+','+'Class'+'\\n')\n",
    "    for batch_idx, sample in enumerate(data_loader):\n",
    "        sequence = sample['seq']\n",
    "        input_sequence_var = Variable(sequence).type(FloatTensor)\n",
    "        scores = model(input_sequence_var)\n",
    "        _, preds = scores.data.cpu().max(1)\n",
    "        for i in range(len(preds)):\n",
    "            results.write(str(count)+','+str(preds[i].numpy())+'\\n')\n",
    "            count+=1\n",
    "    results.close()\n",
    "    return count\n",
    "\n",
    "count=predict_on_test(k_model, tstLD)\n",
    "print(count)"
   ]
  },
  {
   "cell_type": "markdown",
   "metadata": {},
   "source": [
    "## Report the performance\n",
    "################ 4th To Do  (5 points)##################\n",
    "\n",
    "In this cell, you should write an explanation of what you did (network architecture, optimiziter, learning rate, epochs) and any visualizations or graphs that you make in the process of training and evaluating your network.\n",
    "## Model:\n",
    "I Tried various optimizer such as SGD,Adam,SparseAdam etc.. I Got the best accuracy with the Adam optimizer. I tried tuning it with weight_decay,lr and amsgrad. I got the best result with lr=1e-3 and amsgrad=True.\n",
    "Model Architecture:\n",
    "\n",
    "1.Linear Layer(75, 200)\n",
    "\n",
    "2.LSTM(200,400,bidirectional) \n",
    "\n",
    "3.BatchNorm2d(800)\n",
    "\n",
    "4.ReLU()\n",
    "\n",
    "5.Linear(800)\n",
    "\n",
    "\n",
    "\n",
    "I added Linear layer initially to get some simple features. After which I added the LSTM layer to learn features based on past input as well. It worked better but the model was still giving low accuracy. So, i added bidirectional to the layer and tried increasing the number of layers and hidden size of the LSTM layer. Increasing the hidden size increased accuracy but it took too much time to train. After adding bidirectional LSTM, the model worked very well on the data.\n",
    "I tried changing the lr to 0.01, 0.1,0.0001 and 0.005. I got the best result with the lr=1e-3.\n",
    "\n",
    "\n",
    "I submitted the model with the best validation accuracy of 86.0% to the kaggle competition. I got 81.4% accuracy on the dataset.\n",
    "\n",
    "Report your Kaggle Performance here:\n",
    "## Position : 23 Rohit Bhal \n",
    "## Accuracy: 81.4%"
   ]
  },
  {
   "cell_type": "markdown",
   "metadata": {},
   "source": []
  }
 ],
 "metadata": {
  "kernelspec": {
   "display_name": "Python 2",
   "language": "python",
   "name": "python2"
  },
  "language_info": {
   "codemirror_mode": {
    "name": "ipython",
    "version": 2
   },
   "file_extension": ".py",
   "mimetype": "text/x-python",
   "name": "python",
   "nbconvert_exporter": "python",
   "pygments_lexer": "ipython2",
   "version": "2.7.14"
  }
 },
 "nbformat": 4,
 "nbformat_minor": 2
}
